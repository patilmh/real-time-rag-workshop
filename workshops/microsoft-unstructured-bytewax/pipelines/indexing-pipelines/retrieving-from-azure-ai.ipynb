{
 "cells": [
  {
   "cell_type": "code",
   "execution_count": null,
   "metadata": {},
   "outputs": [],
   "source": [
    "from openai import AzureOpenAI\n",
    "from azure.core.credentials import AzureKeyCredential  \n",
    "from azure.core.credentials import AzureKeyCredential\n",
    "from azure.search.documents import SearchClient  \n",
    "\n",
    "from azure.search.documents.models import (\n",
    "    VectorizableTextQuery, \n",
    ")\n",
    "\n",
    "import os\n",
    "from dotenv import load_dotenv  \n",
    "load_dotenv(override=True)\n",
    "\n",
    "AZURE_OPENAI_KEY = os.getenv('AZURE_OPENAI_API_KEY')\n",
    "AZURE_OPENAI_ENDPOINT = os.getenv('AZURE_OPENAI_ENDPOINT')\n",
    "\n",
    "client = AzureOpenAI(\n",
    "    api_key=AZURE_OPENAI_KEY,  \n",
    "    api_version=\"2023-10-01-preview\",\n",
    "    azure_endpoint=AZURE_OPENAI_ENDPOINT\n",
    ")"
   ]
  },
  {
   "cell_type": "code",
   "execution_count": null,
   "metadata": {},
   "outputs": [],
   "source": [
    "key = os.getenv(\"AZURE_SEARCH_ADMIN_KEY\")  \n",
    "credential = AzureKeyCredential(key)\n",
    "endpoint = os.getenv(\"AZURE_SEARCH_SERVICE_ENDPOINT\")\n",
    "\n",
    "def vector_text_search_indx(user_query:str,index_name=\"bytewax-index\", top_results = 3):  \n",
    "    query_vec = VectorizableTextQuery(text=user_query, k=3, fields=\"vector\", exhaustive=True)  \n",
    "    search_client = SearchClient(endpoint=endpoint, index_name=index_name, credential=credential)\n",
    "    search_results = search_client.search(      \n",
    "        search_text=None,      \n",
    "        vector_queries= [query_vec],    \n",
    "        select=[\"id\", \"meta\", \"content\"],    \n",
    "        top=top_results    \n",
    "    )    \n",
    "    output_str = ''    \n",
    "    for result in search_results:      \n",
    "        # print(f\"Parent ID: {result['parent_id']}\")      \n",
    "        # print(f\"Chunk: {result['chunk']}\")      \n",
    "        # print(f\"Score: {result['@search.score']}\")      \n",
    "        # print(f\"Title: {result['title']}\")   \n",
    "        # output_str += f\"Parent ID: {result['parent_id']}\\nChunk: {result['chunk']}\\nScore: {result['@search.score']}\\nTitle: {result['title']}\\n\\n\"  \n",
    "        output_str=f\"{result['content']}\"  \n",
    "    return output_str\n",
    "  \n",
    "def get_ans(user_query):\n",
    "    # a=vector_text_search_indx(user_query,index_name='bytewax-index', top_results = 3)\n",
    "    messages=[  \n",
    "    {\"role\": \"assistant\", \"content\": \"You are an AI assistant that helps in giving answers based on the provided data.\"},  \n",
    "    {\"role\": \"user\", \"content\": 'Answer the query: {user_query} based on the below context:'+'/n'+vector_text_search_indx(user_query,index_name='bytewax-index', top_results = 3)}  \n",
    "    ]\n",
    "    model = os.getenv(\"AZURE_OPENAI_MODEL\")\n",
    "    response = client.chat.completions.create(\n",
    "        model=model,\n",
    "        messages = messages,\n",
    "        temperature=0,\n",
    "        max_tokens=1000,\n",
    "        top_p=0.95,\n",
    "        frequency_penalty=0,\n",
    "        presence_penalty=0,\n",
    "        stop=None\n",
    "        )\n",
    "    ans=response.choices[0].message.content\n",
    "    # Print the AI-generated response\n",
    "    # print(f\"{query_results}\")\n",
    "    return ans\n",
    "\n",
    "get_ans(\"Provide a summary of the information in your database\")"
   ]
  }
 ],
 "metadata": {
  "kernelspec": {
   "display_name": "msflow",
   "language": "python",
   "name": "python3"
  },
  "language_info": {
   "codemirror_mode": {
    "name": "ipython",
    "version": 3
   },
   "file_extension": ".py",
   "mimetype": "text/x-python",
   "name": "python",
   "nbconvert_exporter": "python",
   "pygments_lexer": "ipython3",
   "version": "3.10.14"
  }
 },
 "nbformat": 4,
 "nbformat_minor": 2
}
