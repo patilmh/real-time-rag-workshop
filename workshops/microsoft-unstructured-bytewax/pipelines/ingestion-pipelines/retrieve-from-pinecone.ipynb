{
 "cells": [
  {
   "cell_type": "code",
   "execution_count": 15,
   "metadata": {},
   "outputs": [
    {
     "name": "stdout",
     "output_type": "stream",
     "text": [
      "Note: you may need to restart the kernel to use updated packages.\n",
      "Note: you may need to restart the kernel to use updated packages.\n",
      "Note: you may need to restart the kernel to use updated packages.\n",
      "Note: you may need to restart the kernel to use updated packages.\n"
     ]
    }
   ],
   "source": [
    "%pip install --upgrade --quiet langchain-core\n",
    "%pip install --upgrade --quiet langchain-pinecone\n",
    "%pip install --upgrade --quiet langchain-openai\n",
    "%pip install --upgrade --quiet python-dateutil"
   ]
  },
  {
   "cell_type": "code",
   "execution_count": 12,
   "metadata": {},
   "outputs": [
    {
     "name": "stdout",
     "output_type": "stream",
     "text": [
      "Unrecognized alias: 'py', it will have no effect.\n"
     ]
    }
   ],
   "source": [
    "# To rid of the error \"IProgress not found. Please update jupyter and ipywidgets\", but \n",
    "# still does not provide progress bars\n",
    "# %pip install --upgrade --quiet jupyter ipywidgets\n",
    "# %pip install jupyter_contrib_nbextensions\n",
    "!jupyter labextension enable --py widgetsnbextension"
   ]
  },
  {
   "cell_type": "code",
   "execution_count": 5,
   "metadata": {},
   "outputs": [
    {
     "data": {
      "text/plain": [
       "{'dimension': 512,\n",
       " 'index_fullness': 0.0,\n",
       " 'namespaces': {'': {'vector_count': 1667}, 'test': {'vector_count': 5}},\n",
       " 'total_vector_count': 1672}"
      ]
     },
     "execution_count": 5,
     "metadata": {},
     "output_type": "execute_result"
    }
   ],
   "source": [
    "import os\n",
    "from dotenv import load_dotenv, find_dotenv\n",
    "load_dotenv(find_dotenv(), override=True)\n",
    "\n",
    "from pinecone import Pinecone\n",
    "from langchain_pinecone import PineconeVectorStore\n",
    "from langchain_openai import OpenAIEmbeddings\n",
    "from streaming_pipeline import constants\n",
    "\n",
    "pc = Pinecone()\n",
    "index = pc.Index(host=constants.PINECONE_INDEX_HOST)\n",
    "embeddings = OpenAIEmbeddings(\n",
    "    model=constants.OPENAI_EMBEDDING_MODEL,\n",
    "    dimensions=constants.EMBEDDING_DIMENSIONS\n",
    ")\n",
    "vector_store = PineconeVectorStore(\n",
    "    index=index, \n",
    "    embedding=embeddings,\n",
    "    text_key=\"content\"\n",
    ")\n",
    "index.describe_index_stats()\n"
   ]
  },
  {
   "cell_type": "code",
   "execution_count": 64,
   "metadata": {},
   "outputs": [
    {
     "data": {
      "text/plain": [
       "{'dimension': 512,\n",
       " 'index_fullness': 0.0,\n",
       " 'namespaces': {'': {'vector_count': 843}, 'test': {'vector_count': 5}},\n",
       " 'total_vector_count': 848}"
      ]
     },
     "execution_count": 64,
     "metadata": {},
     "output_type": "execute_result"
    }
   ],
   "source": [
    "index.describe_index_stats()"
   ]
  },
  {
   "cell_type": "code",
   "execution_count": 47,
   "metadata": {},
   "outputs": [
    {
     "name": "stdout",
     "output_type": "stream",
     "text": [
      "{'matches': [{'id': 'fd3d28f9c1d30649513434c17dfbeb591ea47769229f889cd611c778fe669754',\n",
      "              'metadata': {'content': '(\"1000 Invested In Meta Platforms 10 '\n",
      "                                      'Years Ago Would Be Worth This Much '\n",
      "                                      'Today Meta Platforms NASDAQMETA has '\n",
      "                                      'outperformed the market over the past '\n",
      "                                      '10 years by 10.38 on an annualized '\n",
      "                                      'basis producing an average annual '\n",
      "                                      'return of 21.16. Currently, Meta '\n",
      "                                      'Platforms has a market capitalization '\n",
      "                                      'of 1.31 trillion. Buying 1000 In META '\n",
      "                                      'If an investor had bought 1000 of META '\n",
      "                                      'stock 10 years ago, it would be worth '\n",
      "                                      '6,742.89 today based on a price of '\n",
      "                                      '517.04 for META at the time of writing. '\n",
      "                                      \"Meta Platforms's Performance Over Last \"\n",
      "                                      \"10 Years Finally  what's the point of \"\n",
      "                                      'all this The key insight to take from '\n",
      "                                      'this article is to note how much of a '\n",
      "                                      'difference compounded returns can make '\n",
      "                                      'in your cash growth over a period of '\n",
      "                                      'time. This article was generated by '\n",
      "                                      \"Benzinga's automated content engine and \"\n",
      "                                      'reviewed by an editor.\",)',\n",
      "                           'date': '2024-08-29T19:32:08Z',\n",
      "                           'epoch': 1724959928.0,\n",
      "                           'headline': '$1000 Invested In Meta Platforms 10 '\n",
      "                                       'Years Ago Would Be Worth This Much '\n",
      "                                       'Today',\n",
      "                           'symbols': \"['META']\",\n",
      "                           'url': 'https://www.benzinga.com/insights/news/24/08/40636708/1000-invested-in-meta-platforms-10-years-ago-would-be-worth-this-much-today'},\n",
      "              'score': 0.538807094,\n",
      "              'values': []}],\n",
      " 'namespace': 'test',\n",
      " 'usage': {'read_units': 6}}\n"
     ]
    }
   ],
   "source": [
    "from openai import OpenAI\n",
    "client = OpenAI()\n",
    "\n",
    "def embed(docs: list[str]) -> list[list[float]]:\n",
    "    res = client.embeddings.create(\n",
    "        input=docs,\n",
    "        model=\"text-embedding-3-small\",\n",
    "        dimensions=constants.EMBEDDING_DIMENSIONS\n",
    "    )\n",
    "    doc_embeds = [r.embedding for r in res.data] \n",
    "    return doc_embeds \n",
    "\n",
    "### Query\n",
    "query = \"Tell me about the tech company known as Meta\"\n",
    "\n",
    "x = embed([query])\n",
    "\n",
    "results = index.query(\n",
    "    namespace=\"test\",\n",
    "    vector=x[0],\n",
    "    top_k=1,\n",
    "    include_values=False,\n",
    "    include_metadata=True\n",
    ")\n",
    "\n",
    "print(results)"
   ]
  },
  {
   "cell_type": "code",
   "execution_count": null,
   "metadata": {},
   "outputs": [],
   "source": [
    "query = \"What is the news about Abbvie?\"\n",
    "\n",
    "vector = embeddings.embed_query(query)\n",
    "\n",
    "# DO NOT USE\n",
    "# similarity_search_by_vector is not implemented in the module\n",
    "vector_store.similarity_search_by_vector(  \n",
    "    embedding=vector,  # our search query  \n",
    "    k=2,  # return 2 most relevant docs\n",
    "    namespace=\"test\" # namespace to search in\n",
    ")"
   ]
  },
  {
   "cell_type": "code",
   "execution_count": 31,
   "metadata": {},
   "outputs": [
    {
     "name": "stdout",
     "output_type": "stream",
     "text": [
      "date=2024-08-30 00:00:00+00:00, epoch=1724976000\n",
      "UTC time=2024-09-16 18:24:44.041920+00:00, epoch=1726511084\n",
      "UTC time from 7 days ago=2024-09-09 18:24:44.041920+00:00, epoch=1725906284\n",
      "vectors from 2024-08-30 00:00:00+00:00 will be deleted\n"
     ]
    }
   ],
   "source": [
    "from dateutil import parser\n",
    "from datetime import datetime, timezone, timedelta\n",
    "\n",
    "ds = '2024-08-30T00:00:00Z' # or any date sting of differing formats.\n",
    "date = parser.parse(ds)\n",
    "epoch_date = int(date.timestamp())\n",
    "print(f\"date={date}, epoch={epoch_date}\")\n",
    "\n",
    "rightnow = datetime.now(timezone.utc)\n",
    "epoch_rightnow = int(rightnow.timestamp())\n",
    "print(f\"UTC time={rightnow}, epoch={epoch_rightnow}\")\n",
    "\n",
    "one_week_ago = rightnow - timedelta(days=7)\n",
    "epoch_one_week_ago = int(one_week_ago.timestamp())\n",
    "print(f\"UTC time from 7 days ago={one_week_ago}, epoch={epoch_one_week_ago}\")\n",
    "\n",
    "if date < one_week_ago:\n",
    "    print(f\"vectors from {date} will be deleted\")\n",
    "else:\n",
    "    print(f\"vectors from {date} will be kept\")"
   ]
  },
  {
   "cell_type": "code",
   "execution_count": 48,
   "metadata": {},
   "outputs": [
    {
     "data": {
      "text/plain": [
       "[Document(id='d5d8951d0aa4b9273a9e26850d538a3bdd2c3cd5105da9bb394a4f94cfcad34e', metadata={'date': '2024-08-29T19:46:44Z', 'epoch': 1724960804.0, 'headline': \"Apple, Nvidia In Talks To Invest In OpenAI As ChatGPT Maker's Valuation Climbs To $100B: Report\", 'symbols': \"['AAPL', 'MSFT', 'NVDA']\", 'url': 'https://www.benzinga.com/news/24/08/40636153/apple-in-talks-to-invest-in-openai-as-chatgpt-makers-valuation-climbs-to-100b-report'}, page_content='(\"Apple, Nvidia In Talks To Invest In OpenAI As ChatGPT Maker\\'s Valuation Climbs To 100B Report Apple is in talks to take a stake in Sam Altman39s OpenAI, the company behind the popular ChatGPT AI chatbot. Apple Inc NASDAQAAPL is looking to further cement its place in the artificial intelligence space through an investment in OpenAI. What To Know Apple is in talks to take a stake in Sam Altmans OpenAI, the company behind the popular ChatGPT AI chatbot, according to a new report from the Wall Street Journal. The investment would be part of a new fundraising round that would value the AI company at more than 100 billion. The news comes a day after the Wall Street Journal reported that venture capital firm Thrive Capital was leading a new round of funding for OpenAI and would invest at least 1 billion. Bloomberg also reported Thursday afternoon that NVIDIA Corp NASDAQNVDA is among the companies in discussions to take part in OpenAIs latest funding round. Dont Miss OpenAI On Cusp Of Raising Billions In New Venture Capital Round, Valuation Spikes To 100B Report People familiar with the matter reportedly said Microsoft Corp NASDAQMSFT is also expected to put new money into OpenAI. Its not clear how much Apple, Microsoft or Nvidia plan to invest in the latest fundraising round. Microsoft has been the main backer of OpenAI to date, having invested 13 billion in the company over the past five years. Apple will hold its iPhone 16 launch event on Sept. 9. The company is expected to unveil new AI features as it leans into Apple Intelligence, which was introduced at WWDC 24 earlier this year. AAPL Price Action Apple shares were up 2.1 at 231.20 at the time of publication, according to Benzinga Pro. Photo Shutterstock. Read Next Nearly Half Of OpenAIs AGI Safety Researchers Resign Amid Growing Focus On Commercial Product Development Report\",)'),\n",
       " Document(id='282426fcf5f19263fbd13fbc1d2fa6a423a73dde2f0ae0c7aa34bbba4d8daf7a', metadata={'date': '2024-08-29T19:31:57Z', 'epoch': 1724959917.0, 'headline': 'AbbVie Options Trading: A Deep Dive into Market Sentiment', 'symbols': \"['ABBV']\", 'url': 'https://www.benzinga.com/insights/options/24/08/40636705/abbvie-options-trading-a-deep-dive-into-market-sentiment'}, page_content='(\"AbbVie Options Trading A Deep Dive into Market Sentiment Deeppocketed investors have adopted a bearish approach towards AbbVie NYSEABBV, and it\\'s something market players shouldn\\'t ignore. Our tracking of public options records at Benzinga unveiled this significant move today. The identity of these investors remains unknown, but such a substantial move in ABBV usually suggests something big is about to happen. We gleaned this information from our observations today when Benzinga\\'s options scanner highlighted 9 extraordinary options activities for AbbVie. This level of activity is out of the ordinary. The general mood among these heavyweight investors is divided, with 22 leaning bullish and 66 bearish. Among these notable options, 6 are puts, totaling 245,058, and 3 are calls, amounting to 384,516. What\\'s The Price Target After evaluating the trading volumes and Open Interest, it\\'s evident that the major market movers are focusing on a price band between 155.0 and 210.0 for AbbVie, spanning the last three months. Volume  Open Interest Development Looking at the volume and open interest is a powerful move while trading options. This data can help you track the liquidity and interest for AbbVie\\'s options for a given strike price. Below, we can observe the evolution of the volume and open interest of calls and puts, respectively, for all of AbbVie\\'s whale trades within a strike price range from 155.0 to 210.0 in the last 30 days. AbbVie 30Day Option Volume  Interest Snapshot Significant Options Trades Detected Symbol PUTCALL Trade Type Sentiment Exp. Date Ask Bid Price Strike Price Total Trade Price Open Interest Volume ABBV CALL SWEEP BEARISH 011725 38.95 38.5 38.5 160.00 231.0K 3.1K 62 ABBV CALL TRADE BEARISH 092024 41.1 40.95 40.95 155.00 126.9K 250 31 ABBV PUT SWEEP NEUTRAL 011725 9.25 9.1 9.2 195.00 73.6K 435 82 ABBV PUT TRADE BEARISH 062025 16.45 15.7 16.45 200.00 52.6K 175 37 ABBV PUT TRADE BEARISH 062025 8.8 8.05 8.8 180.00 35.2K 849 40 About AbbVie AbbVie is a pharmaceutical firm with a strong exposure to immunology with Humira, Skyrizi, and Rinvoq and oncology with Imbruvica and Venclexta. The company was spun off from Abbott in early 2013. The 2020 acquisition of Allergan added several new products and drugs in aesthetics including Botox. After a thorough review of the options trading surrounding AbbVie, we move to examine the company in more detail. This includes an assessment of its current market status and performance. Current Position of AbbVie With a trading volume of 2,078,162, the price of ABBV is up by 0.01, reaching 195.42. Current RSI values indicate that the stock is may be approaching overbought. Next earnings report is scheduled for 57 days from now. Expert Opinions on AbbVie Over the past month, 3 industry analysts have shared their insights on this stock, proposing an average target price of 209.0. Consistent in their evaluation, an analyst from Morgan Stanley keeps a Overweight rating on AbbVie with a target price of 218. In a cautious move, an analyst from Cantor Fitzgerald downgraded its rating to Overweight, setting a price target of 200. Maintaining their stance, an analyst from Piper Sandler continues to hold a Overweight rating for AbbVie, targeting a price of 209. Trading options involves greater risks but also offers the potential for higher profits. Savvy traders mitigate these risks through ongoing education, strategic trade adjustments, utilizing various indicators, and staying attuned to market dynamics. Keep up with the latest options trades for AbbVie with Benzinga Pro for realtime alerts.\",)'),\n",
       " Document(id='fd3d28f9c1d30649513434c17dfbeb591ea47769229f889cd611c778fe669754', metadata={'date': '2024-08-29T19:32:08Z', 'epoch': 1724959928.0, 'headline': '$1000 Invested In Meta Platforms 10 Years Ago Would Be Worth This Much Today', 'symbols': \"['META']\", 'url': 'https://www.benzinga.com/insights/news/24/08/40636708/1000-invested-in-meta-platforms-10-years-ago-would-be-worth-this-much-today'}, page_content='(\"1000 Invested In Meta Platforms 10 Years Ago Would Be Worth This Much Today Meta Platforms NASDAQMETA has outperformed the market over the past 10 years by 10.38 on an annualized basis producing an average annual return of 21.16. Currently, Meta Platforms has a market capitalization of 1.31 trillion. Buying 1000 In META If an investor had bought 1000 of META stock 10 years ago, it would be worth 6,742.89 today based on a price of 517.04 for META at the time of writing. Meta Platforms\\'s Performance Over Last 10 Years Finally  what\\'s the point of all this The key insight to take from this article is to note how much of a difference compounded returns can make in your cash growth over a period of time. This article was generated by Benzinga\\'s automated content engine and reviewed by an editor.\",)')]"
      ]
     },
     "execution_count": 48,
     "metadata": {},
     "output_type": "execute_result"
    }
   ],
   "source": [
    "query = \"\"\n",
    "\n",
    "vector_store.similarity_search(  \n",
    "    query,  # the search query - empty to filter by date\n",
    "    k=100,  # return 100 most relevant docs\n",
    "    filter={    # get documents from before 2024-08-30\n",
    "        \"epoch\": {\"$lt\": 1724976000}\n",
    "    },\n",
    "    namespace=\"test\" # namespace to search in\n",
    ")"
   ]
  },
  {
   "cell_type": "code",
   "execution_count": 54,
   "metadata": {},
   "outputs": [
    {
     "data": {
      "text/plain": [
       "'Apple and Nvidia are in talks to invest in OpenAI. Additionally, Microsoft is also expected to put new money into OpenAI as part of the latest fundraising round.'"
      ]
     },
     "execution_count": 54,
     "metadata": {},
     "output_type": "execute_result"
    }
   ],
   "source": [
    "from langchain_core.output_parsers import StrOutputParser\n",
    "from langchain_core.prompts import ChatPromptTemplate\n",
    "from langchain_core.runnables import RunnablePassthrough\n",
    "from langchain_openai import ChatOpenAI\n",
    "\n",
    "# Retriever to only get the single most similar document from the dataset\n",
    "retriever = vector_store.as_retriever(\n",
    "    search_type='similarity', \n",
    "    search_kwargs={'k': 1, 'namespace':'test'}\n",
    ")\n",
    "\n",
    "# docs = retriever.invoke(\"What is the news about Sanford Health?\")\n",
    "# print(f\"{docs}\")\n",
    "\n",
    "template = \"\"\"Answer the question based only on the following context:\n",
    "\n",
    "{context}\n",
    "\n",
    "Question: {question}\n",
    "\"\"\"\n",
    "prompt = ChatPromptTemplate.from_template(template)\n",
    "\n",
    "llm = ChatOpenAI(model=\"gpt-4o-mini\")\n",
    "\n",
    "def format_docs(docs):\n",
    "    return \"\\n\\n\".join(doc.page_content for doc in docs)\n",
    "\n",
    "chain = (\n",
    "    {\"context\": retriever | format_docs, \"question\": RunnablePassthrough()}\n",
    "    | prompt\n",
    "    | llm\n",
    "    | StrOutputParser()\n",
    ")\n",
    "\n",
    "chain.invoke(\"Who is investing in OpenAI?\")\n"
   ]
  }
 ],
 "metadata": {
  "kernelspec": {
   "display_name": ".venv",
   "language": "python",
   "name": "python3"
  },
  "language_info": {
   "codemirror_mode": {
    "name": "ipython",
    "version": 3
   },
   "file_extension": ".py",
   "mimetype": "text/x-python",
   "name": "python",
   "nbconvert_exporter": "python",
   "pygments_lexer": "ipython3",
   "version": "3.10.12"
  }
 },
 "nbformat": 4,
 "nbformat_minor": 2
}
