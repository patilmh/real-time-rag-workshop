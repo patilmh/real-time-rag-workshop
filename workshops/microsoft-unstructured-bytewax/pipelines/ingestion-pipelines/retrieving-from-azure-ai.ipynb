{
 "cells": [
  {
   "cell_type": "code",
   "execution_count": null,
   "metadata": {},
   "outputs": [],
   "source": [
    "from openai import AzureOpenAI\n",
    "from azure.core.credentials import AzureKeyCredential\n",
    "from azure.search.documents import SearchClient  \n",
    "from azure.search.documents.models import VectorizedQuery\n",
    "\n",
    "import os\n",
    "from dotenv import load_dotenv  \n",
    "load_dotenv(override=True)\n",
    "\n",
    "AZURE_OPENAI_KEY = os.getenv('AZURE_OPENAI_API_KEY')\n",
    "AZURE_OPENAI_ENDPOINT = os.getenv('AZURE_OPENAI_ENDPOINT')\n",
    "\n",
    "client = AzureOpenAI(\n",
    "    api_key=AZURE_OPENAI_KEY,  \n",
    "    api_version=\"2024-06-01\",\n",
    "    azure_endpoint=AZURE_OPENAI_ENDPOINT\n",
    ")\n",
    "\n",
    "index_name = os.getenv(\"AZURE_INDEX_NAME\")\n",
    "service_endpoint = os.getenv(\"AZURE_SEARCH_SERVICE_ENDPOINT\")\n",
    "embedding_model = os.getenv('AZURE_OPENAI_EMBEDDING_MODEL')\n",
    "\n",
    "credential = AzureKeyCredential(os.getenv(\"AZURE_SEARCH_ADMIN_KEY\"))\n",
    "\n",
    "def get_embeddings(text: str):\n",
    "    embedding = client.embeddings.create(input=[text], model=embedding_model)\n",
    "    return embedding.data[0].embedding\n",
    "\n",
    "def single_vector_search():\n",
    "    # [START single_vector_search]\n",
    "    query = \"What is Apple doing in AI space?\"\n",
    "\n",
    "    search_client = SearchClient(service_endpoint, index_name, credential)\n",
    "    vector_query = VectorizedQuery(vector=get_embeddings(query), k_nearest_neighbors=1, fields=\"vector\")\n",
    "\n",
    "    results = search_client.search(\n",
    "        vector_queries=[vector_query],\n",
    "        select=[\"date\", \"content\"],\n",
    "    )\n",
    "\n",
    "    for result in results:\n",
    "        print(result)\n",
    "    # [END single_vector_search]\n",
    "\n",
    "def single_vector_search_with_filter():\n",
    "    # [START single_vector_search_with_filter]\n",
    "    query = \"*\"\n",
    "\n",
    "    search_client = SearchClient(service_endpoint, index_name, credential)\n",
    "    vector_query = VectorizedQuery(vector=get_embeddings(query), k_nearest_neighbors=3, fields=\"vector\")\n",
    "\n",
    "    results = search_client.search(\n",
    "        search_text=\"\",\n",
    "        vector_queries=[vector_query],\n",
    "        filter=\"date ge 2024-08-30T00:00:00Z\",\n",
    "        select=[\"date\", \"meta\"],\n",
    "    )\n",
    "\n",
    "    for result in results:\n",
    "        print(result)\n",
    "    # [END single_vector_search_with_filter]\n",
    "\n",
    "\n",
    "def simple_hybrid_search():\n",
    "    # [START simple_hybrid_search]\n",
    "    query = \"What is the news about Sanford Health?\"\n",
    "\n",
    "    search_client = SearchClient(service_endpoint, index_name, credential)\n",
    "    vector_query = VectorizedQuery(vector=get_embeddings(query), k_nearest_neighbors=1, fields=\"vector\")\n",
    "\n",
    "    results = search_client.search(\n",
    "        search_text=query,\n",
    "        vector_queries=[vector_query],\n",
    "        select=[\"date\", \"meta\"],\n",
    "    )\n",
    "\n",
    "    for result in results:\n",
    "        print(result)\n",
    "    # [END simple_hybrid_search]\n",
    "\n",
    "# Sample vector searches\n",
    "single_vector_search()\n"
   ]
  },
  {
   "cell_type": "code",
   "execution_count": null,
   "metadata": {},
   "outputs": [],
   "source": [
    "%pip install --upgrade --quiet langchain-community\n",
    "%pip install --upgrade --quiet langchain-openai"
   ]
  },
  {
   "cell_type": "code",
   "execution_count": 29,
   "metadata": {},
   "outputs": [
    {
     "data": {
      "text/plain": [
       "[Document(metadata={'@search.score': 1.0, 'id': '443d307266234221822962a1d2180df6b74af928e41d82c89989b292e11cbf15', 'meta': '{\"headline\": \"Sanford Health To End Participation With Humana Medicare Advantage On Dec. 31 Due To Coverage Denials And Care Delays; Patients Encouraged To Consider Other Plans During Medicare Open Enrollment\", \"author\": \"Benzinga Newsdesk\", \"symbols\": \"[\\'HUM\\']\", \"url\": \"https://www.benzinga.com/news/24/08/40660618/sanford-health-to-end-participation-with-humana-medicare-advantage-on-dec-31-due-to-coverage-denials\", \"model\": \"text-embedding-3-small\", \"usage_prompt_tokens\": 36, \"usage_total_tokens\": 36}', 'date': '2024-08-30T19:25:38Z'}, page_content='Sanford Health To End Participation With Humana Medicare Advantage On Dec 31 Due To Coverage Denials And Care Delays Patients Encouraged To Consider Other Plans During Medicare Open Enrollment'),\n",
       " Document(metadata={'@search.score': 1.0, 'id': '1b04fb14a066628ba98087ed9f46e6c6e4a2028fb80a06a691affdde777d5b55', 'meta': '{\"headline\": \"What\\'s Going On With Cingulate Shares Recently?\", \"author\": \"Vaishali Prayag\", \"symbols\": \"[\\'CING\\']\", \"url\": \"https://www.benzinga.com/news/24/08/40660597/whats-going-on-with-cingulate-shares-recently\", \"model\": \"text-embedding-3-small\", \"usage_prompt_tokens\": 471, \"usage_total_tokens\": 471}', 'date': '2024-08-30T19:23:26Z'}, page_content='Whats Going On With Cingulate Shares Recently Cingulate Inc NASDAQ CING shares are soaring Friday the stock is trading with a session volume of 3297 million shares approaching its 100day average volume of 3654 million shares Cingulate Inc NASDAQCING shares are soaring Friday Last week the company announced a Precision Timed Release PTR technology designed to enhance ADHD drug delivery The companys technology aims to improve the onset and efficacy of existing ADHD treatments Zacks SmallCap Research also issued a note with a 70 valuation on the stock earlier this week Trading Volume The stock opened at 663 and has traded within a day range of 601 to 969 The 50day moving average stands at 581 Cingulates short interest has decreased by 7573 since its last report now at 51000 shares which is 318 of its float Key Metrics Recap Market Cap Previous Close 1112 million 52Week Range 180 1872 Float 1622 million shares Institutional Ownership 113 Insider Ownership 1427 How To Buy CING Stock Buying shares is typically done through a brokerage account You can find a list of possible trading platforms here Many will allow you to buy fractional shares which allows you to own portions of stock without buying an entire share For example some stock like Berkshire Hathaway or Amazoncom can cost thousands of dollars to own just one share However if you only want to invest a fraction of that brokerages will allow you to do so In the the case of Cingulate NASDAQCING which is trading at 82 as of publishing time 100 would buy you 122 shares of stock If youre looking to bet against a company the process is more complex Youll need access to an options trading platform or a broker who will allow you to go short a share of stock by lending you the shares to sell The process of shorting a stock can be found at this resource Otherwise if your broker allows you to trade options you can either buy a put option or sell a call option at a strike price above where shares are currently trading either way it allows you to profit off of the share price decline CING Price Action Cingulate shares were up by 15 at 742 according to Benzinga pro See Also Wall Street Analysts Believe XPEL Could Rally 4946 Heres is How to Trade Image via Shutterstock')]"
      ]
     },
     "execution_count": 29,
     "metadata": {},
     "output_type": "execute_result"
    }
   ],
   "source": [
    "from langchain_community.retrievers import AzureAISearchRetriever\n",
    "\n",
    "import os\n",
    "from dotenv import load_dotenv  \n",
    "load_dotenv(override=True)\n",
    "\n",
    "retriever: AzureAISearchRetriever = AzureAISearchRetriever(\n",
    "    # api_key=api_key, service_name=service_name, index_name=index_name,\n",
    "    content_key=\"content\", top_k=3, filter=\"date ge 2024-08-30T00:00:00Z\"\n",
    ")\n",
    "\n",
    "retriever.invoke(\"*\")\n"
   ]
  },
  {
   "cell_type": "code",
   "execution_count": 30,
   "metadata": {},
   "outputs": [
    {
     "data": {
      "text/plain": [
       "'Apple, Nvidia, and Microsoft are among the companies investing in OpenAI.'"
      ]
     },
     "execution_count": 30,
     "metadata": {},
     "output_type": "execute_result"
    }
   ],
   "source": [
    "from langchain_core.output_parsers import StrOutputParser\n",
    "from langchain_core.prompts import ChatPromptTemplate\n",
    "from langchain_core.runnables import RunnablePassthrough\n",
    "from langchain_openai import ChatOpenAI\n",
    "\n",
    "from langchain_community.retrievers import AzureAISearchRetriever\n",
    "\n",
    "import os\n",
    "from dotenv import load_dotenv  \n",
    "load_dotenv(override=True)\n",
    "\n",
    "retriever: AzureAISearchRetriever = AzureAISearchRetriever(\n",
    "    # api_key=api_key, service_name=service_name, index_name=index_name,\n",
    "    content_key=\"content\", top_k=1\n",
    ")\n",
    "\n",
    "prompt = ChatPromptTemplate.from_template(\n",
    "    \"\"\"Answer the question based only on the context provided.\n",
    "\n",
    "    Context: {context}\n",
    "\n",
    "    Question: {question}\"\"\"\n",
    ")\n",
    "\n",
    "llm = ChatOpenAI(model=\"gpt-4o-mini\")\n",
    "\n",
    "\n",
    "def format_docs(docs):\n",
    "    return \"\\n\\n\".join(doc.page_content for doc in docs)\n",
    "\n",
    "\n",
    "chain = (\n",
    "    {\"context\": retriever | format_docs, \"question\": RunnablePassthrough()}\n",
    "    | prompt\n",
    "    | llm\n",
    "    | StrOutputParser()\n",
    ")\n",
    "\n",
    "chain.invoke(\"Who is investing in OpenAI?\")"
   ]
  }
 ],
 "metadata": {
  "kernelspec": {
   "display_name": "msflow",
   "language": "python",
   "name": "python3"
  },
  "language_info": {
   "codemirror_mode": {
    "name": "ipython",
    "version": 3
   },
   "file_extension": ".py",
   "mimetype": "text/x-python",
   "name": "python",
   "nbconvert_exporter": "python",
   "pygments_lexer": "ipython3",
   "version": "3.10.12"
  }
 },
 "nbformat": 4,
 "nbformat_minor": 2
}
